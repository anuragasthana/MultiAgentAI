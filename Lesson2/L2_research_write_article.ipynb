{
 "cells": [
  {
   "cell_type": "markdown",
   "metadata": {},
   "source": [
    "You can download the `requirements.txt` for this course from the workspace of this lab. `File --> Open...`"
   ]
  },
  {
   "cell_type": "markdown",
   "metadata": {},
   "source": [
    "# L2: Create Agents to Research and Write an Article\n",
    "\n",
    "In this lesson, you will be introduced to the foundational concepts of multi-agent systems and get an overview of the crewAI framework."
   ]
  },
  {
   "cell_type": "markdown",
   "metadata": {},
   "source": [
    "The libraries are already installed in the classroom. If you're running this notebook on your own machine, you can install the following:\n",
    "```Python\n",
    "!pip install crewai==0.28.8 crewai_tools==0.1.6 langchain_community==0.0.29\n",
    "```"
   ]
  },
  {
   "cell_type": "code",
   "execution_count": 5,
   "metadata": {
    "height": 64
   },
   "outputs": [],
   "source": [
    "# Warning control\n",
    "import warnings\n",
    "warnings.filterwarnings('ignore')"
   ]
  },
  {
   "cell_type": "markdown",
   "metadata": {},
   "source": [
    "- Import from the crewAI libray."
   ]
  },
  {
   "cell_type": "code",
   "execution_count": 6,
   "metadata": {
    "height": 30
   },
   "outputs": [],
   "source": [
    "from crewai import Agent, Task, Crew"
   ]
  },
  {
   "cell_type": "markdown",
   "metadata": {},
   "source": [
    "- As a LLM for your agents, you'll be using OpenAI's `gpt-3.5-turbo`.\n",
    "\n",
    "**Optional Note:** crewAI also allow other popular models to be used as a LLM for your Agents. You can see some of the examples at the [bottom of the notebook](#1)."
   ]
  },
  {
   "cell_type": "code",
   "execution_count": 7,
   "metadata": {
    "height": 98
   },
   "outputs": [],
   "source": [
    "import os\n",
    "import getpass\n",
    "\n",
    "os.environ[\"OPENAI_API_KEY\"] = getpass.getpass(\"OpenAI API Key:\")\n",
    "os.environ[\"OPENAI_MODEL_NAME\"] = 'gpt-3.5-turbo'"
   ]
  },
  {
   "cell_type": "markdown",
   "metadata": {},
   "source": [
    "## Creating Agents\n",
    "\n",
    "- Define your Agents, and provide them a `role`, `goal` and `backstory`.\n",
    "- It has been seen that LLMs perform better when they are role playing."
   ]
  },
  {
   "cell_type": "markdown",
   "metadata": {},
   "source": [
    "### Agent: Planner\n",
    "\n",
    "**Note**: The benefit of using _multiple strings_ :\n",
    "```Python\n",
    "varname = \"line 1 of text\"\n",
    "          \"line 2 of text\"\n",
    "```\n",
    "\n",
    "versus the _triple quote docstring_:\n",
    "```Python\n",
    "varname = \"\"\"line 1 of text\n",
    "             line 2 of text\n",
    "          \"\"\"\n",
    "```\n",
    "is that it can avoid adding those whitespaces and newline characters, making it better formatted to be passed to the LLM."
   ]
  },
  {
   "cell_type": "code",
   "execution_count": 8,
   "metadata": {
    "height": 234
   },
   "outputs": [],
   "source": [
    "planner = Agent(\n",
    "    role=\"Content Planner\",\n",
    "    goal=\"Plan engaging and factually accurate content on {topic}\",\n",
    "    backstory=\"You're working on planning a blog article \"\n",
    "              \"about the topic: {topic}.\"\n",
    "              \"You collect information that helps the \"\n",
    "              \"audience learn something \"\n",
    "              \"and make informed decisions. \"\n",
    "              \"Your work is the basis for \"\n",
    "              \"the Content Writer to write an article on this topic.\",\n",
    "    allow_delegation=False,\n",
    "\tverbose=True\n",
    ")"
   ]
  },
  {
   "cell_type": "markdown",
   "metadata": {},
   "source": [
    "### Agent: Writer"
   ]
  },
  {
   "cell_type": "code",
   "execution_count": 9,
   "metadata": {
    "height": 370
   },
   "outputs": [],
   "source": [
    "writer = Agent(\n",
    "    role=\"Content Writer\",\n",
    "    goal=\"Write insightful and factually accurate \"\n",
    "         \"opinion piece about the topic: {topic}\",\n",
    "    backstory=\"You're working on a writing \"\n",
    "              \"a new opinion piece about the topic: {topic}. \"\n",
    "              \"You base your writing on the work of \"\n",
    "              \"the Content Planner, who provides an outline \"\n",
    "              \"and relevant context about the topic. \"\n",
    "              \"You follow the main objectives and \"\n",
    "              \"direction of the outline, \"\n",
    "              \"as provide by the Content Planner. \"\n",
    "              \"You also provide objective and impartial insights \"\n",
    "              \"and back them up with information \"\n",
    "              \"provide by the Content Planner. \"\n",
    "              \"You acknowledge in your opinion piece \"\n",
    "              \"when your statements are opinions \"\n",
    "              \"as opposed to objective statements.\",\n",
    "    allow_delegation=False,\n",
    "    verbose=True\n",
    ")"
   ]
  },
  {
   "cell_type": "markdown",
   "metadata": {},
   "source": [
    "### Agent: Editor"
   ]
  },
  {
   "cell_type": "code",
   "execution_count": 10,
   "metadata": {
    "height": 268
   },
   "outputs": [],
   "source": [
    "editor = Agent(\n",
    "    role=\"Editor\",\n",
    "    goal=\"Edit a given blog post to align with \"\n",
    "         \"the writing style of the organization. \",\n",
    "    backstory=\"You are an editor who receives a blog post \"\n",
    "              \"from the Content Writer. \"\n",
    "              \"Your goal is to review the blog post \"\n",
    "              \"to ensure that it follows journalistic best practices,\"\n",
    "              \"provides balanced viewpoints \"\n",
    "              \"when providing opinions or assertions, \"\n",
    "              \"and also avoids major controversial topics \"\n",
    "              \"or opinions when possible.\",\n",
    "    allow_delegation=False,\n",
    "    verbose=True\n",
    ")"
   ]
  },
  {
   "cell_type": "markdown",
   "metadata": {},
   "source": [
    "## Creating Tasks\n",
    "\n",
    "- Define your Tasks, and provide them a `description`, `expected_output` and `agent`."
   ]
  },
  {
   "cell_type": "markdown",
   "metadata": {},
   "source": [
    "### Task: Plan"
   ]
  },
  {
   "cell_type": "code",
   "execution_count": 11,
   "metadata": {
    "height": 268
   },
   "outputs": [],
   "source": [
    "plan = Task(\n",
    "    description=(\n",
    "        \"1. Prioritize the latest trends, key players, \"\n",
    "            \"and noteworthy news on {topic}.\\n\"\n",
    "        \"2. Identify the target audience, considering \"\n",
    "            \"their interests and pain points.\\n\"\n",
    "        \"3. Develop a detailed content outline including \"\n",
    "            \"an introduction, key points, and a call to action.\\n\"\n",
    "        \"4. Include SEO keywords and relevant data or sources.\"\n",
    "    ),\n",
    "    expected_output=\"A comprehensive content plan document \"\n",
    "        \"with an outline, audience analysis, \"\n",
    "        \"SEO keywords, and resources.\",\n",
    "    agent=planner,\n",
    ")"
   ]
  },
  {
   "cell_type": "markdown",
   "metadata": {},
   "source": [
    "### Task: Write"
   ]
  },
  {
   "cell_type": "code",
   "execution_count": 12,
   "metadata": {
    "height": 319
   },
   "outputs": [],
   "source": [
    "write = Task(\n",
    "    description=(\n",
    "        \"1. Use the content plan to craft a compelling \"\n",
    "            \"blog post on {topic}.\\n\"\n",
    "        \"2. Incorporate SEO keywords naturally.\\n\"\n",
    "\t\t\"3. Sections/Subtitles are properly named \"\n",
    "            \"in an engaging manner.\\n\"\n",
    "        \"4. Ensure the post is structured with an \"\n",
    "            \"engaging introduction, insightful body, \"\n",
    "            \"and a summarizing conclusion.\\n\"\n",
    "        \"5. Proofread for grammatical errors and \"\n",
    "            \"alignment with the brand's voice.\\n\"\n",
    "    ),\n",
    "    expected_output=\"A well-written blog post \"\n",
    "        \"in markdown format, ready for publication, \"\n",
    "        \"each section should have 2 or 3 paragraphs.\",\n",
    "    agent=writer,\n",
    ")"
   ]
  },
  {
   "cell_type": "markdown",
   "metadata": {},
   "source": [
    "### Task: Edit"
   ]
  },
  {
   "cell_type": "code",
   "execution_count": 13,
   "metadata": {
    "height": 166
   },
   "outputs": [],
   "source": [
    "edit = Task(\n",
    "    description=(\"Proofread the given blog post for \"\n",
    "                 \"grammatical errors and \"\n",
    "                 \"alignment with the brand's voice.\"),\n",
    "    expected_output=\"A well-written blog post in markdown format, \"\n",
    "                    \"ready for publication, \"\n",
    "                    \"each section should have 2 or 3 paragraphs.\",\n",
    "    agent=editor\n",
    ")"
   ]
  },
  {
   "cell_type": "markdown",
   "metadata": {},
   "source": [
    "## Creating the Crew\n",
    "\n",
    "- Create your crew of Agents\n",
    "- Pass the tasks to be performed by those agents.\n",
    "    - **Note**: *For this simple example*, the tasks will be performed sequentially (i.e they are dependent on each other), so the _order_ of the task in the list _matters_.\n",
    "- `verbose=2` allows you to see all the logs of the execution. "
   ]
  },
  {
   "cell_type": "code",
   "execution_count": 14,
   "metadata": {
    "height": 98
   },
   "outputs": [],
   "source": [
    "crew = Crew(\n",
    "    agents=[planner, writer, editor],\n",
    "    tasks=[plan, write, edit],\n",
    "    verbose=2\n",
    ")"
   ]
  },
  {
   "cell_type": "markdown",
   "metadata": {},
   "source": [
    "## Running the Crew"
   ]
  },
  {
   "cell_type": "markdown",
   "metadata": {},
   "source": [
    "**Note**: LLMs can provide different outputs for they same input, so what you get might be different than what you see in the video."
   ]
  },
  {
   "cell_type": "code",
   "execution_count": 15,
   "metadata": {
    "height": 30
   },
   "outputs": [
    {
     "name": "stdout",
     "output_type": "stream",
     "text": [
      "\u001b[1m\u001b[95m [DEBUG]: == Working Agent: Content Planner\u001b[00m\n",
      "\u001b[1m\u001b[95m [INFO]: == Starting Task: 1. Prioritize the latest trends, key players, and noteworthy news on Artificial Intelligence.\n",
      "2. Identify the target audience, considering their interests and pain points.\n",
      "3. Develop a detailed content outline including an introduction, key points, and a call to action.\n",
      "4. Include SEO keywords and relevant data or sources.\u001b[00m\n",
      "\n",
      "\n",
      "\u001b[1m> Entering new CrewAgentExecutor chain...\u001b[0m\n",
      "\u001b[32;1m\u001b[1;3mI now can give a great answer\n",
      "\n",
      "Final Answer:\n",
      "\n",
      "Content Plan Document:\n",
      "Title: Exploring the Latest Trends and Key Players in Artificial Intelligence\n",
      "\n",
      "Introduction:\n",
      "- Brief overview of Artificial Intelligence (AI) and its impact on various industries\n",
      "- Importance of staying up-to-date with the latest trends and key players in the AI market\n",
      "\n",
      "Key Points:\n",
      "1. Latest Trends in Artificial Intelligence\n",
      "- Advancements in deep learning algorithms\n",
      "- Increased adoption of AI in healthcare, finance, and transportation industries\n",
      "- Emphasis on ethical AI development and regulation\n",
      "\n",
      "2. Key Players in the AI Market\n",
      "- Google, Amazon, Microsoft, and IBM leading in AI research and development\n",
      "- Startups like OpenAI and UiPath making significant contributions to the AI industry\n",
      "- Collaboration between academia and industry for innovation in AI technology\n",
      "\n",
      "3. Noteworthy News in Artificial Intelligence\n",
      "- Recent developments in natural language processing and computer vision\n",
      "- AI applications in cybersecurity and fraud detection\n",
      "- Impact of AI on job automation and workforce transformation\n",
      "\n",
      "Audience Analysis:\n",
      "Target Audience: Business professionals, technology enthusiasts, and students interested in AI\n",
      "Interests: Innovations in AI technology, industry applications of AI, and ethical considerations in AI development\n",
      "Pain Points: Keeping up with the rapid pace of AI advancements, understanding the implications of AI on society and the economy\n",
      "\n",
      "Content Outline:\n",
      "- Introduction to Artificial Intelligence and its relevance in today's world\n",
      "- Latest Trends in AI: Deep learning algorithms, industry adoption, and ethical considerations\n",
      "- Key Players in the AI Market: Google, Amazon, Microsoft, IBM, and emerging startups\n",
      "- Noteworthy News in AI: Recent developments, applications in cybersecurity, and workforce impact\n",
      "- Conclusion highlighting the importance of staying informed about AI trends and key players\n",
      "- Call to Action encouraging readers to explore further resources on AI advancements\n",
      "\n",
      "SEO Keywords:\n",
      "- Artificial Intelligence trends\n",
      "- Key players in AI\n",
      "- Latest news in Artificial Intelligence\n",
      "- Ethical AI development\n",
      "- AI applications in industries\n",
      "\n",
      "Resources:\n",
      "1. \"The State of Artificial Intelligence in 2021\" report by Forbes\n",
      "2. \"AI 50: America's Most Promising Artificial Intelligence Companies\" article by Forbes\n",
      "3. \"Ethical AI Principles\" guidelines by the IEEE\n",
      "4. \"The Impact of Artificial Intelligence on the Future of Work\" research paper by McKinsey & Company\n",
      "\n",
      "Overall, this comprehensive content plan aims to provide valuable insights into the latest trends, key players, and noteworthy news in Artificial Intelligence for the target audience, while incorporating relevant SEO keywords and reputable resources for further exploration.\u001b[0m\n",
      "\n",
      "\u001b[1m> Finished chain.\u001b[0m\n",
      "\u001b[1m\u001b[92m [DEBUG]: == [Content Planner] Task output: Content Plan Document:\n",
      "Title: Exploring the Latest Trends and Key Players in Artificial Intelligence\n",
      "\n",
      "Introduction:\n",
      "- Brief overview of Artificial Intelligence (AI) and its impact on various industries\n",
      "- Importance of staying up-to-date with the latest trends and key players in the AI market\n",
      "\n",
      "Key Points:\n",
      "1. Latest Trends in Artificial Intelligence\n",
      "- Advancements in deep learning algorithms\n",
      "- Increased adoption of AI in healthcare, finance, and transportation industries\n",
      "- Emphasis on ethical AI development and regulation\n",
      "\n",
      "2. Key Players in the AI Market\n",
      "- Google, Amazon, Microsoft, and IBM leading in AI research and development\n",
      "- Startups like OpenAI and UiPath making significant contributions to the AI industry\n",
      "- Collaboration between academia and industry for innovation in AI technology\n",
      "\n",
      "3. Noteworthy News in Artificial Intelligence\n",
      "- Recent developments in natural language processing and computer vision\n",
      "- AI applications in cybersecurity and fraud detection\n",
      "- Impact of AI on job automation and workforce transformation\n",
      "\n",
      "Audience Analysis:\n",
      "Target Audience: Business professionals, technology enthusiasts, and students interested in AI\n",
      "Interests: Innovations in AI technology, industry applications of AI, and ethical considerations in AI development\n",
      "Pain Points: Keeping up with the rapid pace of AI advancements, understanding the implications of AI on society and the economy\n",
      "\n",
      "Content Outline:\n",
      "- Introduction to Artificial Intelligence and its relevance in today's world\n",
      "- Latest Trends in AI: Deep learning algorithms, industry adoption, and ethical considerations\n",
      "- Key Players in the AI Market: Google, Amazon, Microsoft, IBM, and emerging startups\n",
      "- Noteworthy News in AI: Recent developments, applications in cybersecurity, and workforce impact\n",
      "- Conclusion highlighting the importance of staying informed about AI trends and key players\n",
      "- Call to Action encouraging readers to explore further resources on AI advancements\n",
      "\n",
      "SEO Keywords:\n",
      "- Artificial Intelligence trends\n",
      "- Key players in AI\n",
      "- Latest news in Artificial Intelligence\n",
      "- Ethical AI development\n",
      "- AI applications in industries\n",
      "\n",
      "Resources:\n",
      "1. \"The State of Artificial Intelligence in 2021\" report by Forbes\n",
      "2. \"AI 50: America's Most Promising Artificial Intelligence Companies\" article by Forbes\n",
      "3. \"Ethical AI Principles\" guidelines by the IEEE\n",
      "4. \"The Impact of Artificial Intelligence on the Future of Work\" research paper by McKinsey & Company\n",
      "\n",
      "Overall, this comprehensive content plan aims to provide valuable insights into the latest trends, key players, and noteworthy news in Artificial Intelligence for the target audience, while incorporating relevant SEO keywords and reputable resources for further exploration.\n",
      "\n",
      "\u001b[00m\n",
      "\u001b[1m\u001b[95m [DEBUG]: == Working Agent: Content Writer\u001b[00m\n",
      "\u001b[1m\u001b[95m [INFO]: == Starting Task: 1. Use the content plan to craft a compelling blog post on Artificial Intelligence.\n",
      "2. Incorporate SEO keywords naturally.\n",
      "3. Sections/Subtitles are properly named in an engaging manner.\n",
      "4. Ensure the post is structured with an engaging introduction, insightful body, and a summarizing conclusion.\n",
      "5. Proofread for grammatical errors and alignment with the brand's voice.\n",
      "\u001b[00m\n",
      "\n",
      "\n",
      "\u001b[1m> Entering new CrewAgentExecutor chain...\u001b[0m\n",
      "\u001b[32;1m\u001b[1;3mI have thoroughly reviewed the content plan and have a clear understanding of the key points to cover in the blog post about Artificial Intelligence. I am ready to craft a compelling and informative piece that will engage the target audience and provide valuable insights into the latest trends and key players in the AI market.\n",
      "\n",
      "Final Answer:\n",
      "\n",
      "# Exploring the Latest Trends and Key Players in Artificial Intelligence\n",
      "\n",
      "## Introduction\n",
      "Artificial Intelligence (AI) has become a transformative force in various industries, revolutionizing processes and enhancing efficiency. From healthcare to finance and transportation, the impact of AI is undeniable. Staying informed about the latest trends and key players in the AI market is crucial for professionals and enthusiasts alike to navigate the rapidly evolving landscape of technology.\n",
      "\n",
      "## Latest Trends in Artificial Intelligence\n",
      "The advancements in deep learning algorithms have propelled AI to new heights, enabling machines to learn and adapt without explicit programming. This has led to increased adoption of AI in key sectors such as healthcare, where it assists in diagnostics and personalized treatment plans. Moreover, there is a growing emphasis on ethical AI development and regulation to ensure responsible and transparent use of AI technologies.\n",
      "\n",
      "## Key Players in the AI Market\n",
      "Leading the charge in AI research and development are tech giants like Google, Amazon, Microsoft, and IBM. These companies have invested heavily in AI to drive innovation and create cutting-edge solutions. In addition to established players, startups such as OpenAI and UiPath are making significant contributions to the AI industry with their disruptive technologies. Collaboration between academia and industry further fuels innovation in AI, paving the way for groundbreaking advancements.\n",
      "\n",
      "## Noteworthy News in Artificial Intelligence\n",
      "Recent developments in natural language processing and computer vision have pushed the boundaries of AI capabilities, enabling machines to understand and interpret human language and visual data. AI applications in cybersecurity and fraud detection have enhanced threat detection and prevention measures, safeguarding sensitive information. However, the impact of AI on job automation and workforce transformation raises concerns about the future of work and the need for reskilling and upskilling initiatives.\n",
      "\n",
      "## Conclusion\n",
      "In conclusion, staying informed about the latest trends and key players in Artificial Intelligence is essential for navigating the dynamic landscape of technology. By understanding the advancements in AI, ethical considerations, and industry applications, professionals and enthusiasts can harness the power of AI for positive change. I encourage readers to explore further resources on AI advancements and engage in discussions about the ethical implications of AI development.\n",
      "\n",
      "## Call to Action\n",
      "For more insights on Artificial Intelligence trends, key players, and ethical considerations, I recommend exploring resources such as the \"The State of Artificial Intelligence in 2021\" report by Forbes and the \"Ethical AI Principles\" guidelines by the IEEE. Stay informed and be part of the conversation shaping the future of AI.\n",
      "\n",
      "This blog post aims to provide valuable insights into the latest trends, key players, and noteworthy news in Artificial Intelligence, catering to business professionals, technology enthusiasts, and students interested in AI. By incorporating relevant SEO keywords and reputable resources, the post offers a comprehensive overview of the dynamic AI landscape.\u001b[0m\n",
      "\n",
      "\u001b[1m> Finished chain.\u001b[0m\n",
      "\u001b[1m\u001b[92m [DEBUG]: == [Content Writer] Task output: # Exploring the Latest Trends and Key Players in Artificial Intelligence\n",
      "\n",
      "## Introduction\n",
      "Artificial Intelligence (AI) has become a transformative force in various industries, revolutionizing processes and enhancing efficiency. From healthcare to finance and transportation, the impact of AI is undeniable. Staying informed about the latest trends and key players in the AI market is crucial for professionals and enthusiasts alike to navigate the rapidly evolving landscape of technology.\n",
      "\n",
      "## Latest Trends in Artificial Intelligence\n",
      "The advancements in deep learning algorithms have propelled AI to new heights, enabling machines to learn and adapt without explicit programming. This has led to increased adoption of AI in key sectors such as healthcare, where it assists in diagnostics and personalized treatment plans. Moreover, there is a growing emphasis on ethical AI development and regulation to ensure responsible and transparent use of AI technologies.\n",
      "\n",
      "## Key Players in the AI Market\n",
      "Leading the charge in AI research and development are tech giants like Google, Amazon, Microsoft, and IBM. These companies have invested heavily in AI to drive innovation and create cutting-edge solutions. In addition to established players, startups such as OpenAI and UiPath are making significant contributions to the AI industry with their disruptive technologies. Collaboration between academia and industry further fuels innovation in AI, paving the way for groundbreaking advancements.\n",
      "\n",
      "## Noteworthy News in Artificial Intelligence\n",
      "Recent developments in natural language processing and computer vision have pushed the boundaries of AI capabilities, enabling machines to understand and interpret human language and visual data. AI applications in cybersecurity and fraud detection have enhanced threat detection and prevention measures, safeguarding sensitive information. However, the impact of AI on job automation and workforce transformation raises concerns about the future of work and the need for reskilling and upskilling initiatives.\n",
      "\n",
      "## Conclusion\n",
      "In conclusion, staying informed about the latest trends and key players in Artificial Intelligence is essential for navigating the dynamic landscape of technology. By understanding the advancements in AI, ethical considerations, and industry applications, professionals and enthusiasts can harness the power of AI for positive change. I encourage readers to explore further resources on AI advancements and engage in discussions about the ethical implications of AI development.\n",
      "\n",
      "## Call to Action\n",
      "For more insights on Artificial Intelligence trends, key players, and ethical considerations, I recommend exploring resources such as the \"The State of Artificial Intelligence in 2021\" report by Forbes and the \"Ethical AI Principles\" guidelines by the IEEE. Stay informed and be part of the conversation shaping the future of AI.\n",
      "\n",
      "This blog post aims to provide valuable insights into the latest trends, key players, and noteworthy news in Artificial Intelligence, catering to business professionals, technology enthusiasts, and students interested in AI. By incorporating relevant SEO keywords and reputable resources, the post offers a comprehensive overview of the dynamic AI landscape.\n",
      "\n",
      "\u001b[00m\n",
      "\u001b[1m\u001b[95m [DEBUG]: == Working Agent: Editor\u001b[00m\n",
      "\u001b[1m\u001b[95m [INFO]: == Starting Task: Proofread the given blog post for grammatical errors and alignment with the brand's voice.\u001b[00m\n",
      "\n",
      "\n",
      "\u001b[1m> Entering new CrewAgentExecutor chain...\u001b[0m\n",
      "\u001b[32;1m\u001b[1;3mI now can give a great answer\n",
      "\n",
      "Final Answer:\n",
      "# Exploring the Latest Trends and Key Players in Artificial Intelligence\n",
      "\n",
      "## Introduction\n",
      "Artificial Intelligence (AI) has become a transformative force in various industries, revolutionizing processes and enhancing efficiency. From healthcare to finance and transportation, the impact of AI is undeniable. Staying informed about the latest trends and key players in the AI market is crucial for professionals and enthusiasts alike to navigate the rapidly evolving landscape of technology.\n",
      "\n",
      "## Latest Trends in Artificial Intelligence\n",
      "The advancements in deep learning algorithms have propelled AI to new heights, enabling machines to learn and adapt without explicit programming. This has led to increased adoption of AI in key sectors such as healthcare, where it assists in diagnostics and personalized treatment plans. Moreover, there is a growing emphasis on ethical AI development and regulation to ensure responsible and transparent use of AI technologies.\n",
      "\n",
      "## Key Players in the AI Market\n",
      "Leading the charge in AI research and development are tech giants like Google, Amazon, Microsoft, and IBM. These companies have invested heavily in AI to drive innovation and create cutting-edge solutions. In addition to established players, startups such as OpenAI and UiPath are making significant contributions to the AI industry with their disruptive technologies. Collaboration between academia and industry further fuels innovation in AI, paving the way for groundbreaking advancements.\n",
      "\n",
      "## Noteworthy News in Artificial Intelligence\n",
      "Recent developments in natural language processing and computer vision have pushed the boundaries of AI capabilities, enabling machines to understand and interpret human language and visual data. AI applications in cybersecurity and fraud detection have enhanced threat detection and prevention measures, safeguarding sensitive information. However, the impact of AI on job automation and workforce transformation raises concerns about the future of work and the need for reskilling and upskilling initiatives.\n",
      "\n",
      "## Conclusion\n",
      "In conclusion, staying informed about the latest trends and key players in Artificial Intelligence is essential for navigating the dynamic landscape of technology. By understanding the advancements in AI, ethical considerations, and industry applications, professionals and enthusiasts can harness the power of AI for positive change. I encourage readers to explore further resources on AI advancements and engage in discussions about the ethical implications of AI development.\n",
      "\n",
      "## Call to Action\n",
      "For more insights on Artificial Intelligence trends, key players, and ethical considerations, I recommend exploring resources such as the \"The State of Artificial Intelligence in 2021\" report by Forbes and the \"Ethical AI Principles\" guidelines by the IEEE. Stay informed and be part of the conversation shaping the future of AI.\n",
      "\n",
      "This blog post aims to provide valuable insights into the latest trends, key players, and noteworthy news in Artificial Intelligence, catering to business professionals, technology enthusiasts, and students interested in AI. By incorporating relevant SEO keywords and reputable resources, the post offers a comprehensive overview of the dynamic AI landscape.\u001b[0m\n",
      "\n",
      "\u001b[1m> Finished chain.\u001b[0m\n",
      "\u001b[1m\u001b[92m [DEBUG]: == [Editor] Task output: # Exploring the Latest Trends and Key Players in Artificial Intelligence\n",
      "\n",
      "## Introduction\n",
      "Artificial Intelligence (AI) has become a transformative force in various industries, revolutionizing processes and enhancing efficiency. From healthcare to finance and transportation, the impact of AI is undeniable. Staying informed about the latest trends and key players in the AI market is crucial for professionals and enthusiasts alike to navigate the rapidly evolving landscape of technology.\n",
      "\n",
      "## Latest Trends in Artificial Intelligence\n",
      "The advancements in deep learning algorithms have propelled AI to new heights, enabling machines to learn and adapt without explicit programming. This has led to increased adoption of AI in key sectors such as healthcare, where it assists in diagnostics and personalized treatment plans. Moreover, there is a growing emphasis on ethical AI development and regulation to ensure responsible and transparent use of AI technologies.\n",
      "\n",
      "## Key Players in the AI Market\n",
      "Leading the charge in AI research and development are tech giants like Google, Amazon, Microsoft, and IBM. These companies have invested heavily in AI to drive innovation and create cutting-edge solutions. In addition to established players, startups such as OpenAI and UiPath are making significant contributions to the AI industry with their disruptive technologies. Collaboration between academia and industry further fuels innovation in AI, paving the way for groundbreaking advancements.\n",
      "\n",
      "## Noteworthy News in Artificial Intelligence\n",
      "Recent developments in natural language processing and computer vision have pushed the boundaries of AI capabilities, enabling machines to understand and interpret human language and visual data. AI applications in cybersecurity and fraud detection have enhanced threat detection and prevention measures, safeguarding sensitive information. However, the impact of AI on job automation and workforce transformation raises concerns about the future of work and the need for reskilling and upskilling initiatives.\n",
      "\n",
      "## Conclusion\n",
      "In conclusion, staying informed about the latest trends and key players in Artificial Intelligence is essential for navigating the dynamic landscape of technology. By understanding the advancements in AI, ethical considerations, and industry applications, professionals and enthusiasts can harness the power of AI for positive change. I encourage readers to explore further resources on AI advancements and engage in discussions about the ethical implications of AI development.\n",
      "\n",
      "## Call to Action\n",
      "For more insights on Artificial Intelligence trends, key players, and ethical considerations, I recommend exploring resources such as the \"The State of Artificial Intelligence in 2021\" report by Forbes and the \"Ethical AI Principles\" guidelines by the IEEE. Stay informed and be part of the conversation shaping the future of AI.\n",
      "\n",
      "This blog post aims to provide valuable insights into the latest trends, key players, and noteworthy news in Artificial Intelligence, catering to business professionals, technology enthusiasts, and students interested in AI. By incorporating relevant SEO keywords and reputable resources, the post offers a comprehensive overview of the dynamic AI landscape.\n",
      "\n",
      "\u001b[00m\n"
     ]
    }
   ],
   "source": [
    "result = crew.kickoff(inputs={\"topic\": \"Artificial Intelligence\"})"
   ]
  },
  {
   "cell_type": "markdown",
   "metadata": {},
   "source": [
    "- Display the results of your execution as markdown in the notebook."
   ]
  },
  {
   "cell_type": "code",
   "execution_count": 16,
   "metadata": {
    "height": 47
   },
   "outputs": [
    {
     "data": {
      "text/markdown": [
       "# Exploring the Latest Trends and Key Players in Artificial Intelligence\n",
       "\n",
       "## Introduction\n",
       "Artificial Intelligence (AI) has become a transformative force in various industries, revolutionizing processes and enhancing efficiency. From healthcare to finance and transportation, the impact of AI is undeniable. Staying informed about the latest trends and key players in the AI market is crucial for professionals and enthusiasts alike to navigate the rapidly evolving landscape of technology.\n",
       "\n",
       "## Latest Trends in Artificial Intelligence\n",
       "The advancements in deep learning algorithms have propelled AI to new heights, enabling machines to learn and adapt without explicit programming. This has led to increased adoption of AI in key sectors such as healthcare, where it assists in diagnostics and personalized treatment plans. Moreover, there is a growing emphasis on ethical AI development and regulation to ensure responsible and transparent use of AI technologies.\n",
       "\n",
       "## Key Players in the AI Market\n",
       "Leading the charge in AI research and development are tech giants like Google, Amazon, Microsoft, and IBM. These companies have invested heavily in AI to drive innovation and create cutting-edge solutions. In addition to established players, startups such as OpenAI and UiPath are making significant contributions to the AI industry with their disruptive technologies. Collaboration between academia and industry further fuels innovation in AI, paving the way for groundbreaking advancements.\n",
       "\n",
       "## Noteworthy News in Artificial Intelligence\n",
       "Recent developments in natural language processing and computer vision have pushed the boundaries of AI capabilities, enabling machines to understand and interpret human language and visual data. AI applications in cybersecurity and fraud detection have enhanced threat detection and prevention measures, safeguarding sensitive information. However, the impact of AI on job automation and workforce transformation raises concerns about the future of work and the need for reskilling and upskilling initiatives.\n",
       "\n",
       "## Conclusion\n",
       "In conclusion, staying informed about the latest trends and key players in Artificial Intelligence is essential for navigating the dynamic landscape of technology. By understanding the advancements in AI, ethical considerations, and industry applications, professionals and enthusiasts can harness the power of AI for positive change. I encourage readers to explore further resources on AI advancements and engage in discussions about the ethical implications of AI development.\n",
       "\n",
       "## Call to Action\n",
       "For more insights on Artificial Intelligence trends, key players, and ethical considerations, I recommend exploring resources such as the \"The State of Artificial Intelligence in 2021\" report by Forbes and the \"Ethical AI Principles\" guidelines by the IEEE. Stay informed and be part of the conversation shaping the future of AI.\n",
       "\n",
       "This blog post aims to provide valuable insights into the latest trends, key players, and noteworthy news in Artificial Intelligence, catering to business professionals, technology enthusiasts, and students interested in AI. By incorporating relevant SEO keywords and reputable resources, the post offers a comprehensive overview of the dynamic AI landscape."
      ],
      "text/plain": [
       "<IPython.core.display.Markdown object>"
      ]
     },
     "execution_count": 16,
     "metadata": {},
     "output_type": "execute_result"
    }
   ],
   "source": [
    "from IPython.display import Markdown\n",
    "Markdown(result)"
   ]
  },
  {
   "cell_type": "markdown",
   "metadata": {},
   "source": [
    "## Try it Yourself\n",
    "\n",
    "- Pass in a topic of your choice and see what the agents come up with!"
   ]
  },
  {
   "cell_type": "code",
   "execution_count": 17,
   "metadata": {
    "height": 47
   },
   "outputs": [
    {
     "name": "stdout",
     "output_type": "stream",
     "text": [
      "\u001b[1m\u001b[95m [DEBUG]: == Working Agent: Content Planner\u001b[00m\n",
      "\u001b[1m\u001b[95m [INFO]: == Starting Task: 1. Prioritize the latest trends, key players, and noteworthy news on Space Exploration.\n",
      "2. Identify the target audience, considering their interests and pain points.\n",
      "3. Develop a detailed content outline including an introduction, key points, and a call to action.\n",
      "4. Include SEO keywords and relevant data or sources.\u001b[00m\n",
      "\n",
      "\n",
      "\u001b[1m> Entering new CrewAgentExecutor chain...\u001b[0m\n",
      "\u001b[32;1m\u001b[1;3mI now can give a great answer\n",
      "\n",
      "Final Answer:\n",
      "\n",
      "Content Plan: Space Exploration\n",
      "\n",
      "1. Introduction\n",
      "- Brief overview of the history of space exploration\n",
      "- Importance of space exploration in scientific advancements and technological developments\n",
      "\n",
      "2. Latest Trends and Key Players\n",
      "- SpaceX: notable for its advancements in reusable rocket technology\n",
      "- NASA Artemis Program: aiming to return humans to the moon by 2024\n",
      "- Commercial space tourism: companies like Blue Origin and Virgin Galactic offering space travel experiences\n",
      "\n",
      "3. Noteworthy News\n",
      "- Recent Mars rover missions and discoveries\n",
      "- International collaborations in space exploration, such as the ISS\n",
      "- Advancements in satellite technology for Earth observation and communication\n",
      "\n",
      "4. Target Audience\n",
      "- Science enthusiasts and students interested in learning about space exploration\n",
      "- Technology professionals looking for insights into the latest trends in the space industry\n",
      "- Individuals curious about the future of space travel and colonization\n",
      "\n",
      "5. Audience Analysis\n",
      "- Interests: Space exploration history, technological innovations, future missions\n",
      "- Pain Points: Lack of understanding about complex space-related topics, difficulty in keeping up with the latest news and developments\n",
      "\n",
      "6. Content Outline\n",
      "- Introduction to space exploration and its significance\n",
      "- Overview of recent trends and key players in the space industry\n",
      "- Noteworthy news and advancements in space exploration\n",
      "- Discussion on the future of space travel and colonization\n",
      "- Call to action to stay updated on space exploration news and developments\n",
      "\n",
      "7. SEO Keywords\n",
      "- Space exploration, latest trends, key players, space industry news, future of space travel, Mars missions, satellite technology\n",
      "\n",
      "8. Resources\n",
      "- NASA website\n",
      "- SpaceX website\n",
      "- ESA (European Space Agency) website\n",
      "- Space.com for news and updates on space exploration\n",
      "\n",
      "By following this comprehensive content plan, the blog article on space exploration will provide valuable information to the target audience, enhance their knowledge, and engage them with the latest trends and developments in the space industry.\u001b[0m\n",
      "\n",
      "\u001b[1m> Finished chain.\u001b[0m\n",
      "\u001b[1m\u001b[92m [DEBUG]: == [Content Planner] Task output: Content Plan: Space Exploration\n",
      "\n",
      "1. Introduction\n",
      "- Brief overview of the history of space exploration\n",
      "- Importance of space exploration in scientific advancements and technological developments\n",
      "\n",
      "2. Latest Trends and Key Players\n",
      "- SpaceX: notable for its advancements in reusable rocket technology\n",
      "- NASA Artemis Program: aiming to return humans to the moon by 2024\n",
      "- Commercial space tourism: companies like Blue Origin and Virgin Galactic offering space travel experiences\n",
      "\n",
      "3. Noteworthy News\n",
      "- Recent Mars rover missions and discoveries\n",
      "- International collaborations in space exploration, such as the ISS\n",
      "- Advancements in satellite technology for Earth observation and communication\n",
      "\n",
      "4. Target Audience\n",
      "- Science enthusiasts and students interested in learning about space exploration\n",
      "- Technology professionals looking for insights into the latest trends in the space industry\n",
      "- Individuals curious about the future of space travel and colonization\n",
      "\n",
      "5. Audience Analysis\n",
      "- Interests: Space exploration history, technological innovations, future missions\n",
      "- Pain Points: Lack of understanding about complex space-related topics, difficulty in keeping up with the latest news and developments\n",
      "\n",
      "6. Content Outline\n",
      "- Introduction to space exploration and its significance\n",
      "- Overview of recent trends and key players in the space industry\n",
      "- Noteworthy news and advancements in space exploration\n",
      "- Discussion on the future of space travel and colonization\n",
      "- Call to action to stay updated on space exploration news and developments\n",
      "\n",
      "7. SEO Keywords\n",
      "- Space exploration, latest trends, key players, space industry news, future of space travel, Mars missions, satellite technology\n",
      "\n",
      "8. Resources\n",
      "- NASA website\n",
      "- SpaceX website\n",
      "- ESA (European Space Agency) website\n",
      "- Space.com for news and updates on space exploration\n",
      "\n",
      "By following this comprehensive content plan, the blog article on space exploration will provide valuable information to the target audience, enhance their knowledge, and engage them with the latest trends and developments in the space industry.\n",
      "\n",
      "\u001b[00m\n",
      "\u001b[1m\u001b[95m [DEBUG]: == Working Agent: Content Writer\u001b[00m\n",
      "\u001b[1m\u001b[95m [INFO]: == Starting Task: 1. Use the content plan to craft a compelling blog post on Space Exploration.\n",
      "2. Incorporate SEO keywords naturally.\n",
      "3. Sections/Subtitles are properly named in an engaging manner.\n",
      "4. Ensure the post is structured with an engaging introduction, insightful body, and a summarizing conclusion.\n",
      "5. Proofread for grammatical errors and alignment with the brand's voice.\n",
      "\u001b[00m\n",
      "\n",
      "\n",
      "\u001b[1m> Entering new CrewAgentExecutor chain...\u001b[0m\n",
      "\u001b[32;1m\u001b[1;3mI now have all the necessary information and guidelines to craft a compelling blog post on space exploration. This topic is fascinating and important, and I am excited to delve into the history, latest trends, key players, noteworthy news, and future possibilities in the realm of space exploration.\n",
      "\n",
      "Final Answer:\n",
      "\n",
      "# Exploring the Final Frontier: A Journey Through Space Exploration\n",
      "\n",
      "## Introduction\n",
      "\n",
      "Space exploration has always captured the imagination of humanity, pushing the boundaries of what is possible and expanding our understanding of the universe. From the early days of the space race to the groundbreaking advancements of today, the quest to explore the cosmos has been a driving force in scientific advancements and technological developments. The importance of space exploration cannot be overstated, as it has led to breakthroughs in various fields and continues to inspire future generations to reach for the stars.\n",
      "\n",
      "## Latest Trends and Key Players\n",
      "\n",
      "In recent years, notable players like SpaceX have revolutionized the space industry with their innovative approach to reusable rocket technology. Companies like Blue Origin and Virgin Galactic are also making strides in commercial space tourism, offering the possibility of experiencing space travel firsthand. On the governmental side, NASA's Artemis Program is aiming to return humans to the moon by 2024, while international collaborations like the International Space Station (ISS) showcase the power of working together in space exploration endeavors.\n",
      "\n",
      "## Noteworthy News\n",
      "\n",
      "Recent Mars rover missions have provided us with valuable insights into the red planet, while advancements in satellite technology have enhanced our ability to observe Earth and communicate globally. International collaborations in space exploration continue to push the boundaries of what is possible, paving the way for future missions to the moon, Mars, and beyond. The future of space travel and colonization holds endless possibilities, with exciting developments on the horizon that will shape the way we explore the final frontier.\n",
      "\n",
      "## Conclusion\n",
      "\n",
      "As we look towards the future of space exploration, it is clear that the possibilities are endless. From the latest trends and key players in the space industry to the groundbreaking advancements in technology and science, the journey through space exploration is one that captivates us all. By staying informed and engaged with the latest news and developments in space exploration, we can all play a part in shaping the future of humanity's journey to the stars.\n",
      "\n",
      "*Stay updated on the latest space exploration news and developments by visiting NASA, SpaceX, ESA, and Space.com for the most up-to-date information.*\n",
      "\u001b[0m\n",
      "\n",
      "\u001b[1m> Finished chain.\u001b[0m\n",
      "\u001b[1m\u001b[92m [DEBUG]: == [Content Writer] Task output: # Exploring the Final Frontier: A Journey Through Space Exploration\n",
      "\n",
      "## Introduction\n",
      "\n",
      "Space exploration has always captured the imagination of humanity, pushing the boundaries of what is possible and expanding our understanding of the universe. From the early days of the space race to the groundbreaking advancements of today, the quest to explore the cosmos has been a driving force in scientific advancements and technological developments. The importance of space exploration cannot be overstated, as it has led to breakthroughs in various fields and continues to inspire future generations to reach for the stars.\n",
      "\n",
      "## Latest Trends and Key Players\n",
      "\n",
      "In recent years, notable players like SpaceX have revolutionized the space industry with their innovative approach to reusable rocket technology. Companies like Blue Origin and Virgin Galactic are also making strides in commercial space tourism, offering the possibility of experiencing space travel firsthand. On the governmental side, NASA's Artemis Program is aiming to return humans to the moon by 2024, while international collaborations like the International Space Station (ISS) showcase the power of working together in space exploration endeavors.\n",
      "\n",
      "## Noteworthy News\n",
      "\n",
      "Recent Mars rover missions have provided us with valuable insights into the red planet, while advancements in satellite technology have enhanced our ability to observe Earth and communicate globally. International collaborations in space exploration continue to push the boundaries of what is possible, paving the way for future missions to the moon, Mars, and beyond. The future of space travel and colonization holds endless possibilities, with exciting developments on the horizon that will shape the way we explore the final frontier.\n",
      "\n",
      "## Conclusion\n",
      "\n",
      "As we look towards the future of space exploration, it is clear that the possibilities are endless. From the latest trends and key players in the space industry to the groundbreaking advancements in technology and science, the journey through space exploration is one that captivates us all. By staying informed and engaged with the latest news and developments in space exploration, we can all play a part in shaping the future of humanity's journey to the stars.\n",
      "\n",
      "*Stay updated on the latest space exploration news and developments by visiting NASA, SpaceX, ESA, and Space.com for the most up-to-date information.*\n",
      "\n",
      "\u001b[00m\n",
      "\u001b[1m\u001b[95m [DEBUG]: == Working Agent: Editor\u001b[00m\n",
      "\u001b[1m\u001b[95m [INFO]: == Starting Task: Proofread the given blog post for grammatical errors and alignment with the brand's voice.\u001b[00m\n",
      "\n",
      "\n",
      "\u001b[1m> Entering new CrewAgentExecutor chain...\u001b[0m\n",
      "\u001b[32;1m\u001b[1;3mI now can give a great answer.\n",
      "\n",
      "Final Answer:\n",
      "# Exploring the Final Frontier: A Journey Through Space Exploration\n",
      "\n",
      "## Introduction\n",
      "\n",
      "Space exploration has always captivated the imagination of humanity, pushing the boundaries of what is possible and expanding our understanding of the universe. From the early days of the space race to the groundbreaking advancements of today, the quest to explore the cosmos has been a driving force in scientific advancements and technological developments. The importance of space exploration cannot be overstated, as it has led to breakthroughs in various fields and continues to inspire future generations to reach for the stars.\n",
      "\n",
      "## Latest Trends and Key Players\n",
      "\n",
      "In recent years, notable players like SpaceX have revolutionized the space industry with their innovative approach to reusable rocket technology. Companies like Blue Origin and Virgin Galactic are also making strides in commercial space tourism, offering the possibility of experiencing space travel firsthand. On the governmental side, NASA's Artemis Program is aiming to return humans to the moon by 2024, while international collaborations like the International Space Station (ISS) showcase the power of working together in space exploration endeavors.\n",
      "\n",
      "## Noteworthy News\n",
      "\n",
      "Recent Mars rover missions have provided us with valuable insights into the red planet, while advancements in satellite technology have enhanced our ability to observe Earth and communicate globally. International collaborations in space exploration continue to push the boundaries of what is possible, paving the way for future missions to the moon, Mars, and beyond. The future of space travel and colonization holds endless possibilities, with exciting developments on the horizon that will shape the way we explore the final frontier.\n",
      "\n",
      "## Conclusion\n",
      "\n",
      "Looking towards the future of space exploration, it is evident that the possibilities are endless. From the latest trends and key players in the space industry to the groundbreaking advancements in technology and science, the journey through space exploration captivates us all. By staying informed and engaged with the latest news and developments in space exploration, we can all play a part in shaping the future of humanity's journey to the stars.\n",
      "\n",
      "*Stay updated on the latest space exploration news and developments by visiting NASA, SpaceX, ESA, and Space.com for the most up-to-date information.*\u001b[0m\n",
      "\n",
      "\u001b[1m> Finished chain.\u001b[0m\n",
      "\u001b[1m\u001b[92m [DEBUG]: == [Editor] Task output: # Exploring the Final Frontier: A Journey Through Space Exploration\n",
      "\n",
      "## Introduction\n",
      "\n",
      "Space exploration has always captivated the imagination of humanity, pushing the boundaries of what is possible and expanding our understanding of the universe. From the early days of the space race to the groundbreaking advancements of today, the quest to explore the cosmos has been a driving force in scientific advancements and technological developments. The importance of space exploration cannot be overstated, as it has led to breakthroughs in various fields and continues to inspire future generations to reach for the stars.\n",
      "\n",
      "## Latest Trends and Key Players\n",
      "\n",
      "In recent years, notable players like SpaceX have revolutionized the space industry with their innovative approach to reusable rocket technology. Companies like Blue Origin and Virgin Galactic are also making strides in commercial space tourism, offering the possibility of experiencing space travel firsthand. On the governmental side, NASA's Artemis Program is aiming to return humans to the moon by 2024, while international collaborations like the International Space Station (ISS) showcase the power of working together in space exploration endeavors.\n",
      "\n",
      "## Noteworthy News\n",
      "\n",
      "Recent Mars rover missions have provided us with valuable insights into the red planet, while advancements in satellite technology have enhanced our ability to observe Earth and communicate globally. International collaborations in space exploration continue to push the boundaries of what is possible, paving the way for future missions to the moon, Mars, and beyond. The future of space travel and colonization holds endless possibilities, with exciting developments on the horizon that will shape the way we explore the final frontier.\n",
      "\n",
      "## Conclusion\n",
      "\n",
      "Looking towards the future of space exploration, it is evident that the possibilities are endless. From the latest trends and key players in the space industry to the groundbreaking advancements in technology and science, the journey through space exploration captivates us all. By staying informed and engaged with the latest news and developments in space exploration, we can all play a part in shaping the future of humanity's journey to the stars.\n",
      "\n",
      "*Stay updated on the latest space exploration news and developments by visiting NASA, SpaceX, ESA, and Space.com for the most up-to-date information.*\n",
      "\n",
      "\u001b[00m\n"
     ]
    }
   ],
   "source": [
    "topic = \"Space Exploration\"\n",
    "result = crew.kickoff(inputs={\"topic\": topic})"
   ]
  },
  {
   "cell_type": "code",
   "execution_count": 18,
   "metadata": {
    "height": 30
   },
   "outputs": [
    {
     "data": {
      "text/markdown": [
       "# Exploring the Final Frontier: A Journey Through Space Exploration\n",
       "\n",
       "## Introduction\n",
       "\n",
       "Space exploration has always captivated the imagination of humanity, pushing the boundaries of what is possible and expanding our understanding of the universe. From the early days of the space race to the groundbreaking advancements of today, the quest to explore the cosmos has been a driving force in scientific advancements and technological developments. The importance of space exploration cannot be overstated, as it has led to breakthroughs in various fields and continues to inspire future generations to reach for the stars.\n",
       "\n",
       "## Latest Trends and Key Players\n",
       "\n",
       "In recent years, notable players like SpaceX have revolutionized the space industry with their innovative approach to reusable rocket technology. Companies like Blue Origin and Virgin Galactic are also making strides in commercial space tourism, offering the possibility of experiencing space travel firsthand. On the governmental side, NASA's Artemis Program is aiming to return humans to the moon by 2024, while international collaborations like the International Space Station (ISS) showcase the power of working together in space exploration endeavors.\n",
       "\n",
       "## Noteworthy News\n",
       "\n",
       "Recent Mars rover missions have provided us with valuable insights into the red planet, while advancements in satellite technology have enhanced our ability to observe Earth and communicate globally. International collaborations in space exploration continue to push the boundaries of what is possible, paving the way for future missions to the moon, Mars, and beyond. The future of space travel and colonization holds endless possibilities, with exciting developments on the horizon that will shape the way we explore the final frontier.\n",
       "\n",
       "## Conclusion\n",
       "\n",
       "Looking towards the future of space exploration, it is evident that the possibilities are endless. From the latest trends and key players in the space industry to the groundbreaking advancements in technology and science, the journey through space exploration captivates us all. By staying informed and engaged with the latest news and developments in space exploration, we can all play a part in shaping the future of humanity's journey to the stars.\n",
       "\n",
       "*Stay updated on the latest space exploration news and developments by visiting NASA, SpaceX, ESA, and Space.com for the most up-to-date information.*"
      ],
      "text/plain": [
       "<IPython.core.display.Markdown object>"
      ]
     },
     "execution_count": 18,
     "metadata": {},
     "output_type": "execute_result"
    }
   ],
   "source": [
    "Markdown(result)"
   ]
  },
  {
   "cell_type": "markdown",
   "metadata": {},
   "source": [
    "<a name='1'></a>\n",
    " ## Other Popular Models as LLM for your Agents"
   ]
  },
  {
   "cell_type": "markdown",
   "metadata": {},
   "source": [
    "#### Hugging Face (HuggingFaceHub endpoint)\n",
    "\n",
    "```Python\n",
    "from langchain_community.llms import HuggingFaceHub\n",
    "\n",
    "llm = HuggingFaceHub(\n",
    "    repo_id=\"HuggingFaceH4/zephyr-7b-beta\",\n",
    "    huggingfacehub_api_token=\"<HF_TOKEN_HERE>\",\n",
    "    task=\"text-generation\",\n",
    ")\n",
    "\n",
    "### you will pass \"llm\" to your agent function\n",
    "```"
   ]
  },
  {
   "cell_type": "markdown",
   "metadata": {},
   "source": [
    "#### Mistral API\n",
    "\n",
    "```Python\n",
    "OPENAI_API_KEY=your-mistral-api-key\n",
    "OPENAI_API_BASE=https://api.mistral.ai/v1\n",
    "OPENAI_MODEL_NAME=\"mistral-small\"\n",
    "```"
   ]
  },
  {
   "cell_type": "markdown",
   "metadata": {},
   "source": [
    "#### Cohere\n",
    "\n",
    "```Python\n",
    "from langchain_community.chat_models import ChatCohere\n",
    "# Initialize language model\n",
    "os.environ[\"COHERE_API_KEY\"] = \"your-cohere-api-key\"\n",
    "llm = ChatCohere()\n",
    "\n",
    "### you will pass \"llm\" to your agent function\n",
    "```"
   ]
  },
  {
   "cell_type": "markdown",
   "metadata": {},
   "source": [
    "### For using Llama locally with Ollama and more, checkout the crewAI documentation on [Connecting to any LLM](https://docs.crewai.com/how-to/LLM-Connections/)."
   ]
  },
  {
   "cell_type": "code",
   "execution_count": null,
   "metadata": {
    "height": 30
   },
   "outputs": [],
   "source": []
  },
  {
   "cell_type": "code",
   "execution_count": null,
   "metadata": {
    "height": 30
   },
   "outputs": [],
   "source": []
  },
  {
   "cell_type": "code",
   "execution_count": null,
   "metadata": {
    "height": 30
   },
   "outputs": [],
   "source": []
  }
 ],
 "metadata": {
  "colab": {
   "gpuType": "T4",
   "provenance": []
  },
  "kernelspec": {
   "display_name": "Python 3 (ipykernel)",
   "language": "python",
   "name": "python3"
  },
  "language_info": {
   "codemirror_mode": {
    "name": "ipython",
    "version": 3
   },
   "file_extension": ".py",
   "mimetype": "text/x-python",
   "name": "python",
   "nbconvert_exporter": "python",
   "pygments_lexer": "ipython3",
   "version": "3.10.2"
  }
 },
 "nbformat": 4,
 "nbformat_minor": 4
}
